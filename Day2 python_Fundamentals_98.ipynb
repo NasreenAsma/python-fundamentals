{
 "cells": [
  {
   "cell_type": "code",
   "execution_count": null,
   "id": "9a44e18b-8b1b-4214-a0e3-708a17413275",
   "metadata": {},
   "outputs": [],
   "source": [
    "Introduction to python fundamentals"
   ]
  },
  {
   "cell_type": "code",
   "execution_count": null,
   "id": "d7023e6e-0203-4eca-8b25-688476a99077",
   "metadata": {},
   "outputs": [],
   "source": []
  },
  {
   "cell_type": "code",
   "execution_count": null,
   "id": "2e0bf94c-2fdb-4e1d-ad99-e5319c3d5625",
   "metadata": {},
   "outputs": [],
   "source": [
    "understanding the variables in python :"
   ]
  },
  {
   "cell_type": "code",
   "execution_count": null,
   "id": "e29b52d5-6eed-4b94-b064-360dd8f3f3a6",
   "metadata": {},
   "outputs": [],
   "source": []
  },
  {
   "cell_type": "code",
   "execution_count": 10,
   "id": "92e9910f-c6a8-4b89-b811-5d5a491da1b9",
   "metadata": {},
   "outputs": [],
   "source": [
    "x = 3\n",
    "\n",
    "y = 2"
   ]
  },
  {
   "cell_type": "code",
   "execution_count": 11,
   "id": "feb4af9d-5e8c-4f04-940b-b080f8be09f5",
   "metadata": {},
   "outputs": [
    {
     "name": "stdout",
     "output_type": "stream",
     "text": [
      "5\n"
     ]
    }
   ],
   "source": [
    "z = x+y\n",
    "\n",
    "print(z) "
   ]
  },
  {
   "cell_type": "code",
   "execution_count": null,
   "id": "ca3d645c-1f43-47be-b0b3-122cc99a6c9e",
   "metadata": {},
   "outputs": [],
   "source": []
  },
  {
   "cell_type": "code",
   "execution_count": null,
   "id": "fc853d4d-745d-4cd2-955c-7669c92c26e3",
   "metadata": {},
   "outputs": [],
   "source": [
    "Rules for declaring the variables in python :"
   ]
  },
  {
   "cell_type": "code",
   "execution_count": null,
   "id": "1a368d03-f9b2-4853-8ec9-5b24b5a265e2",
   "metadata": {},
   "outputs": [],
   "source": [
    "Rules No 1 : No Namespace for declaring the variable names."
   ]
  },
  {
   "cell_type": "code",
   "execution_count": 12,
   "id": "5ec949f6-47dd-4ed1-acc2-442013aaeb75",
   "metadata": {},
   "outputs": [
    {
     "ename": "SyntaxError",
     "evalue": "invalid syntax (106164790.py, line 1)",
     "output_type": "error",
     "traceback": [
      "\u001b[1;36m  Cell \u001b[1;32mIn[12], line 1\u001b[1;36m\u001b[0m\n\u001b[1;33m    first name = \"Asma\"\u001b[0m\n\u001b[1;37m          ^\u001b[0m\n\u001b[1;31mSyntaxError\u001b[0m\u001b[1;31m:\u001b[0m invalid syntax\n"
     ]
    }
   ],
   "source": [
    "first name = \"Asma\"\n",
    "\n",
    "print(first name)"
   ]
  },
  {
   "cell_type": "code",
   "execution_count": 13,
   "id": "9d4cdecd-036b-4a47-8c27-99a089c5aaa4",
   "metadata": {},
   "outputs": [
    {
     "name": "stdout",
     "output_type": "stream",
     "text": [
      "Asma\n"
     ]
    }
   ],
   "source": [
    "firstname = \"Asma\"\n",
    "\n",
    "print(firstname)"
   ]
  },
  {
   "cell_type": "code",
   "execution_count": null,
   "id": "a9c40f7b-decd-49d8-9d05-3ab90cb8b009",
   "metadata": {},
   "outputs": [],
   "source": [
    "Rule NO 2 : A variable name should not start with number **"
   ]
  },
  {
   "cell_type": "code",
   "execution_count": 14,
   "id": "21308e2e-c1c1-41a8-986f-f961ad1546a7",
   "metadata": {},
   "outputs": [
    {
     "ename": "SyntaxError",
     "evalue": "invalid decimal literal (3316346543.py, line 1)",
     "output_type": "error",
     "traceback": [
      "\u001b[1;36m  Cell \u001b[1;32mIn[14], line 1\u001b[1;36m\u001b[0m\n\u001b[1;33m    1name = \"Jabeen\"\u001b[0m\n\u001b[1;37m    ^\u001b[0m\n\u001b[1;31mSyntaxError\u001b[0m\u001b[1;31m:\u001b[0m invalid decimal literal\n"
     ]
    }
   ],
   "source": [
    "1name = \"Jabeen\"\n",
    "\n",
    "print(1name)"
   ]
  },
  {
   "cell_type": "code",
   "execution_count": 15,
   "id": "492bea88-51de-4f05-920e-81a93fae468e",
   "metadata": {},
   "outputs": [
    {
     "name": "stdout",
     "output_type": "stream",
     "text": [
      "jabeen\n"
     ]
    }
   ],
   "source": [
    "name1 = \"jabeen\"\n",
    "\n",
    "print(name1)"
   ]
  },
  {
   "cell_type": "code",
   "execution_count": null,
   "id": "dd9b1b2a-0f69-4bb1-bae9-c2245d97ec67",
   "metadata": {},
   "outputs": [],
   "source": [
    "Rule NO 3 : A variable name should not contain any special characters "
   ]
  },
  {
   "cell_type": "code",
   "execution_count": null,
   "id": "bd7f391b-7328-4798-ade0-eac11b4a58e0",
   "metadata": {},
   "outputs": [],
   "source": []
  },
  {
   "cell_type": "code",
   "execution_count": 16,
   "id": "dd612395-96fc-4a0c-852d-50e54fb032ea",
   "metadata": {},
   "outputs": [
    {
     "ename": "SyntaxError",
     "evalue": "invalid syntax (4246389298.py, line 1)",
     "output_type": "error",
     "traceback": [
      "\u001b[1;36m  Cell \u001b[1;32mIn[16], line 1\u001b[1;36m\u001b[0m\n\u001b[1;33m    name@ = \"amsa\"\u001b[0m\n\u001b[1;37m          ^\u001b[0m\n\u001b[1;31mSyntaxError\u001b[0m\u001b[1;31m:\u001b[0m invalid syntax\n"
     ]
    }
   ],
   "source": [
    "name@ = \"amsa\"\n",
    "\n",
    "print(name@)"
   ]
  },
  {
   "cell_type": "code",
   "execution_count": null,
   "id": "6e161f42-1bd1-4360-bc9e-5cd607cd036f",
   "metadata": {},
   "outputs": [],
   "source": [
    "@ # ! $ % & *====>"
   ]
  },
  {
   "cell_type": "code",
   "execution_count": null,
   "id": "50e020db-e65d-4acc-8fd0-e13c8320e35b",
   "metadata": {},
   "outputs": [],
   "source": []
  },
  {
   "cell_type": "code",
   "execution_count": null,
   "id": "19dc2f19-c7af-46b3-8cf0-b9825c8a3ed6",
   "metadata": {},
   "outputs": [],
   "source": [
    "Introduction to datatypes in python :"
   ]
  },
  {
   "cell_type": "code",
   "execution_count": null,
   "id": "3a285dad-f436-432c-ad2e-c144dfed4f51",
   "metadata": {},
   "outputs": [],
   "source": [
    "1. string ======> str\n",
    "\n",
    "2. Numbers =====> intergers ---int , floats( decides) -----> 0.1,0.2,0.3\n",
    "\n",
    "3. lists -----> list\n",
    "\n",
    "4. Dictionaries -----> dict"
   ]
  },
  {
   "cell_type": "code",
   "execution_count": null,
   "id": "e3156791-90e2-4ec8-b9d1-6955bbe1e850",
   "metadata": {},
   "outputs": [],
   "source": []
  },
  {
   "cell_type": "code",
   "execution_count": null,
   "id": "f332ccb9-fe2e-4835-a0fb-94cbf858208b",
   "metadata": {},
   "outputs": [],
   "source": [
    "classification of datatypes :\n",
    "\n",
    "Brodaly datatypes are classified in to two categeories\n",
    "\n",
    "1. mutable datatypes-----> which can be able to edit/alter\n",
    "2. immutable datatypes-----> which can be able to edit /alter"
   ]
  },
  {
   "cell_type": "code",
   "execution_count": null,
   "id": "700865ac-d081-438d-bbfc-a85ea3b8b88e",
   "metadata": {},
   "outputs": [],
   "source": [
    "Introduction to string datatype :"
   ]
  },
  {
   "cell_type": "code",
   "execution_count": null,
   "id": "85e9185c-08cf-46e7-9794-4f3c91be678a",
   "metadata": {},
   "outputs": [],
   "source": [
    "Defination : A string is a series of characters declared in quotes.\n",
    "\n",
    "classification : it is classified as an immutable datatype\n",
    "\n",
    "how to declare the string ======?\n",
    "\n",
    "1. single quote\n",
    "\n",
    "2. double quote"
   ]
  },
  {
   "cell_type": "code",
   "execution_count": 17,
   "id": "7ecc3216-2fb4-4788-b103-7d9136ab1227",
   "metadata": {},
   "outputs": [
    {
     "name": "stdout",
     "output_type": "stream",
     "text": [
      "muskaan\n"
     ]
    }
   ],
   "source": [
    "name = 'muskaan' # single quote\n",
    "\n",
    "print(name)"
   ]
  },
  {
   "cell_type": "code",
   "execution_count": 18,
   "id": "b4eaf0fc-f89a-4c97-8e02-bc9441871d6b",
   "metadata": {},
   "outputs": [
    {
     "name": "stdout",
     "output_type": "stream",
     "text": [
      "aisha\n"
     ]
    }
   ],
   "source": [
    "name2 = \"aisha\" # double quote\n",
    "\n",
    "print(name2)"
   ]
  },
  {
   "cell_type": "code",
   "execution_count": null,
   "id": "19210392-9afc-4331-8b93-7f13a5eee973",
   "metadata": {},
   "outputs": [],
   "source": []
  },
  {
   "cell_type": "code",
   "execution_count": null,
   "id": "04af0a8e-3d7f-4f50-8da8-8bedee867c99",
   "metadata": {},
   "outputs": [],
   "source": []
  },
  {
   "cell_type": "code",
   "execution_count": null,
   "id": "b336ded6-e155-48cc-8659-b14751eddc08",
   "metadata": {},
   "outputs": [],
   "source": []
  },
  {
   "cell_type": "code",
   "execution_count": null,
   "id": "490ab75a-ae05-43af-984f-680c352290a8",
   "metadata": {},
   "outputs": [],
   "source": []
  },
  {
   "cell_type": "code",
   "execution_count": null,
   "id": "98b8917a-b07b-4e4c-aa9e-c2a97c613e10",
   "metadata": {},
   "outputs": [],
   "source": []
  },
  {
   "cell_type": "code",
   "execution_count": null,
   "id": "c326d6b6-7b1b-4301-9817-6142596b4c54",
   "metadata": {},
   "outputs": [],
   "source": []
  },
  {
   "cell_type": "code",
   "execution_count": null,
   "id": "1cbdca9d-0b9d-48dc-81d2-9612bda21a20",
   "metadata": {},
   "outputs": [],
   "source": []
  },
  {
   "cell_type": "code",
   "execution_count": null,
   "id": "cd8e86a5-8c37-45cc-99e1-80b12cff1e75",
   "metadata": {},
   "outputs": [],
   "source": []
  },
  {
   "cell_type": "code",
   "execution_count": null,
   "id": "0f9c9da5-405b-4e53-bf12-2ee747634ff4",
   "metadata": {},
   "outputs": [],
   "source": []
  },
  {
   "cell_type": "code",
   "execution_count": null,
   "id": "f976d16e-dafe-4ea6-b73d-80e643ef8d28",
   "metadata": {},
   "outputs": [],
   "source": []
  },
  {
   "cell_type": "code",
   "execution_count": null,
   "id": "f44f40bc-f39e-4c72-b86d-058604803c7c",
   "metadata": {},
   "outputs": [],
   "source": []
  },
  {
   "cell_type": "code",
   "execution_count": null,
   "id": "07366cd2-e191-4f06-8d73-a3d4e7b7782c",
   "metadata": {},
   "outputs": [],
   "source": []
  },
  {
   "cell_type": "code",
   "execution_count": null,
   "id": "a5e618b3-ec1e-4958-a510-4ef98d6d0578",
   "metadata": {},
   "outputs": [],
   "source": []
  },
  {
   "cell_type": "code",
   "execution_count": null,
   "id": "4237b125-f26c-42cb-a65c-4fba903418f6",
   "metadata": {},
   "outputs": [],
   "source": []
  },
  {
   "cell_type": "code",
   "execution_count": null,
   "id": "5c1c7291-0b8b-4a8a-8b3b-c2e83114a80e",
   "metadata": {},
   "outputs": [],
   "source": []
  },
  {
   "cell_type": "code",
   "execution_count": null,
   "id": "ec3c573b-1b54-4912-a958-42a8728f5f38",
   "metadata": {},
   "outputs": [],
   "source": []
  },
  {
   "cell_type": "code",
   "execution_count": null,
   "id": "520a6d4f-580d-41da-9a4d-0b74a360592f",
   "metadata": {},
   "outputs": [],
   "source": []
  },
  {
   "cell_type": "code",
   "execution_count": null,
   "id": "c1c98b9b-8a0c-410b-a7df-cd11ba7ad718",
   "metadata": {},
   "outputs": [],
   "source": []
  },
  {
   "cell_type": "code",
   "execution_count": null,
   "id": "8122b8ab-2869-4fc5-9e22-5caadb1671b0",
   "metadata": {},
   "outputs": [],
   "source": []
  },
  {
   "cell_type": "code",
   "execution_count": null,
   "id": "eed8e0dc-cf0a-40e1-a4da-7e78d3f8ceab",
   "metadata": {},
   "outputs": [],
   "source": []
  },
  {
   "cell_type": "code",
   "execution_count": null,
   "id": "286c2408-4bad-4fab-8f96-0bc057d99a42",
   "metadata": {},
   "outputs": [],
   "source": []
  },
  {
   "cell_type": "code",
   "execution_count": null,
   "id": "1d79d9c3-2327-449b-8e84-639d2231beef",
   "metadata": {},
   "outputs": [],
   "source": []
  },
  {
   "cell_type": "code",
   "execution_count": null,
   "id": "291b84b6-dffd-4011-b6a8-c4054e6327ad",
   "metadata": {},
   "outputs": [],
   "source": []
  },
  {
   "cell_type": "code",
   "execution_count": null,
   "id": "8c0c82aa-4aba-4050-9132-ecbbaa09df1f",
   "metadata": {},
   "outputs": [],
   "source": []
  },
  {
   "cell_type": "code",
   "execution_count": null,
   "id": "62f3c676-6277-43b4-b875-b2bf9f231ff5",
   "metadata": {},
   "outputs": [],
   "source": []
  },
  {
   "cell_type": "code",
   "execution_count": null,
   "id": "98d3dd32-e836-4f0c-89fa-5a3fc7e70c02",
   "metadata": {},
   "outputs": [],
   "source": []
  },
  {
   "cell_type": "code",
   "execution_count": null,
   "id": "f078a4af-8a75-470f-9410-9e43734e880e",
   "metadata": {},
   "outputs": [],
   "source": []
  },
  {
   "cell_type": "code",
   "execution_count": null,
   "id": "08f69654-0efe-4812-bdc9-9b0459b369a3",
   "metadata": {},
   "outputs": [],
   "source": []
  },
  {
   "cell_type": "code",
   "execution_count": null,
   "id": "c8c98e12-8436-4381-b91a-c31429f9a875",
   "metadata": {},
   "outputs": [],
   "source": []
  },
  {
   "cell_type": "code",
   "execution_count": null,
   "id": "baf68dca-a6ef-4ae2-97d5-cedd5750e486",
   "metadata": {},
   "outputs": [],
   "source": []
  },
  {
   "cell_type": "code",
   "execution_count": null,
   "id": "6557f70c-2832-4aa4-b078-31e805712a09",
   "metadata": {},
   "outputs": [],
   "source": []
  }
 ],
 "metadata": {
  "kernelspec": {
   "display_name": "Python [conda env:base] *",
   "language": "python",
   "name": "conda-base-py"
  },
  "language_info": {
   "codemirror_mode": {
    "name": "ipython",
    "version": 3
   },
   "file_extension": ".py",
   "mimetype": "text/x-python",
   "name": "python",
   "nbconvert_exporter": "python",
   "pygments_lexer": "ipython3",
   "version": "3.13.5"
  }
 },
 "nbformat": 4,
 "nbformat_minor": 5
}
