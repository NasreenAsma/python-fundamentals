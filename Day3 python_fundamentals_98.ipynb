{
 "cells": [
  {
   "cell_type": "code",
   "execution_count": null,
   "id": "a34a4524-bcf3-4af8-8ea3-07a39a68a3f2",
   "metadata": {},
   "outputs": [],
   "source": [
    "Continauation with string datatype :"
   ]
  },
  {
   "cell_type": "code",
   "execution_count": 3,
   "id": "c5e07ae5-2387-438c-891d-9e6679e449ba",
   "metadata": {},
   "outputs": [],
   "source": [
    "name = \"dinesh\""
   ]
  },
  {
   "cell_type": "code",
   "execution_count": 4,
   "id": "42d19cfe-e442-4666-9eac-150190196c07",
   "metadata": {},
   "outputs": [
    {
     "name": "stdout",
     "output_type": "stream",
     "text": [
      "dinesh\n"
     ]
    }
   ],
   "source": [
    "print(name)"
   ]
  },
  {
   "cell_type": "code",
   "execution_count": null,
   "id": "ac96fcc4-23f5-4de4-9523-96f7a85f976a",
   "metadata": {},
   "outputs": [],
   "source": []
  },
  {
   "cell_type": "code",
   "execution_count": 5,
   "id": "41265d2b-8590-467c-b9f5-d2ac041c6d5e",
   "metadata": {},
   "outputs": [
    {
     "data": {
      "text/plain": [
       "str"
      ]
     },
     "execution_count": 5,
     "metadata": {},
     "output_type": "execute_result"
    }
   ],
   "source": [
    "type(name)"
   ]
  },
  {
   "cell_type": "code",
   "execution_count": null,
   "id": "53eb50b9-b4ef-4e65-b646-c8266a9758d1",
   "metadata": {},
   "outputs": [],
   "source": []
  },
  {
   "cell_type": "code",
   "execution_count": 6,
   "id": "5fbc18ca-a16b-4a7d-98d9-a03f04c74fe0",
   "metadata": {},
   "outputs": [
    {
     "name": "stdout",
     "output_type": "stream",
     "text": [
      "dinesh Sahu\n"
     ]
    }
   ],
   "source": [
    "fullname = \"dinesh Sahu\"\n",
    "\n",
    "print(fullname)"
   ]
  },
  {
   "cell_type": "code",
   "execution_count": null,
   "id": "fb6a31fe-f2ac-42e1-ab41-153116b5792c",
   "metadata": {},
   "outputs": [],
   "source": []
  },
  {
   "cell_type": "code",
   "execution_count": 7,
   "id": "fb86bb4e-a085-4868-bfa2-89e5b3e4bca2",
   "metadata": {},
   "outputs": [
    {
     "name": "stdout",
     "output_type": "stream",
     "text": [
      "Dinesh Sahu\n"
     ]
    }
   ],
   "source": [
    "print(fullname.title())"
   ]
  },
  {
   "cell_type": "code",
   "execution_count": null,
   "id": "9cdd3324-575c-444e-872f-50a086389a78",
   "metadata": {},
   "outputs": [],
   "source": []
  },
  {
   "cell_type": "code",
   "execution_count": null,
   "id": "0ebd0258-3ffa-47ab-95e3-718c9d76386e",
   "metadata": {},
   "outputs": [],
   "source": [
    "# i want to get the fullname in the capital letters"
   ]
  },
  {
   "cell_type": "code",
   "execution_count": 8,
   "id": "491acc41-feec-402a-aecd-49d2dadcb048",
   "metadata": {},
   "outputs": [
    {
     "name": "stdout",
     "output_type": "stream",
     "text": [
      "DINESH SAHU\n"
     ]
    }
   ],
   "source": [
    "print(fullname.upper())"
   ]
  },
  {
   "cell_type": "code",
   "execution_count": null,
   "id": "38e90730-c84d-4d8b-b515-f3504303ec8c",
   "metadata": {},
   "outputs": [],
   "source": []
  },
  {
   "cell_type": "code",
   "execution_count": null,
   "id": "fc5dadf6-6a66-4dd4-93c9-348c36fc738d",
   "metadata": {},
   "outputs": [],
   "source": [
    "# i want to get the full name in smallcase letters...?"
   ]
  },
  {
   "cell_type": "code",
   "execution_count": 10,
   "id": "c903fd12-89fa-46d8-9e2a-84a05e72ca20",
   "metadata": {},
   "outputs": [
    {
     "name": "stdout",
     "output_type": "stream",
     "text": [
      "dinesh sahu\n"
     ]
    }
   ],
   "source": [
    "print(fullname.lower())"
   ]
  },
  {
   "cell_type": "code",
   "execution_count": null,
   "id": "2dc6757b-c5d0-420f-8a49-4ba7c35faa33",
   "metadata": {},
   "outputs": [],
   "source": []
  },
  {
   "cell_type": "code",
   "execution_count": null,
   "id": "4a54d187-8ca6-4b9b-b30d-3e3996350115",
   "metadata": {},
   "outputs": [],
   "source": [
    "Introduction to f strings :"
   ]
  },
  {
   "cell_type": "code",
   "execution_count": null,
   "id": "06dad64e-1779-461b-aa69-485817a0f8a9",
   "metadata": {},
   "outputs": [],
   "source": [
    "general syntax of f strings :"
   ]
  },
  {
   "cell_type": "code",
   "execution_count": null,
   "id": "d199e065-4b63-4043-8eee-c46eee557039",
   "metadata": {},
   "outputs": [],
   "source": [
    "f\"custom_message {placeholder1} {placeholder2}....{placeholdern}\""
   ]
  },
  {
   "cell_type": "code",
   "execution_count": null,
   "id": "74ea2824-a9b1-4010-a87a-b0ee49f4ff31",
   "metadata": {},
   "outputs": [],
   "source": []
  },
  {
   "cell_type": "code",
   "execution_count": 30,
   "id": "682fb308-12a2-472d-a031-706807952307",
   "metadata": {},
   "outputs": [],
   "source": [
    "firstname = \"sana\"\n",
    "\n",
    "lastname = \"kauser\""
   ]
  },
  {
   "cell_type": "code",
   "execution_count": null,
   "id": "3b6849cb-545d-42e9-a5d0-0febcd0d31cf",
   "metadata": {},
   "outputs": [],
   "source": [
    "# i want to get the fullname....?"
   ]
  },
  {
   "cell_type": "code",
   "execution_count": 31,
   "id": "d8cdd307-c917-4287-9ee0-8b22fb32e2b2",
   "metadata": {},
   "outputs": [
    {
     "name": "stdout",
     "output_type": "stream",
     "text": [
      "sana kauser\n"
     ]
    }
   ],
   "source": [
    "fullname = f\"{firstname} {lastname}\"\n",
    "\n",
    "print(fullname)"
   ]
  },
  {
   "cell_type": "code",
   "execution_count": null,
   "id": "e7c2ab16-f4a7-42f9-8869-adb7f2a176c7",
   "metadata": {},
   "outputs": [],
   "source": [
    "# req :"
   ]
  },
  {
   "cell_type": "code",
   "execution_count": 45,
   "id": "d653ae5c-ff8d-4d3c-be86-f3b832ba0646",
   "metadata": {},
   "outputs": [
    {
     "name": "stdout",
     "output_type": "stream",
     "text": [
      "keep up the good work, Sana Kauser\n"
     ]
    }
   ],
   "source": [
    "message = f\"keep up the good work, {fullname.title()}\"\n",
    "\n",
    "print(message)"
   ]
  },
  {
   "cell_type": "markdown",
   "id": "eeb55534-de38-48d9-bf40-c27bfc578d32",
   "metadata": {},
   "source": []
  },
  {
   "cell_type": "code",
   "execution_count": null,
   "id": "ce23e604-ce46-4a9a-9381-7827fc552659",
   "metadata": {},
   "outputs": [],
   "source": [
    "Addding whitespaces to strings :"
   ]
  },
  {
   "cell_type": "code",
   "execution_count": 46,
   "id": "429546b6-b262-4c4a-baa7-64689cc46459",
   "metadata": {},
   "outputs": [
    {
     "name": "stdout",
     "output_type": "stream",
     "text": [
      "favourite_programming:pythonjavac++javascriptswift\n"
     ]
    }
   ],
   "source": [
    "print(\"favourite_programming:pythonjavac++javascriptswift\")"
   ]
  },
  {
   "cell_type": "code",
   "execution_count": 47,
   "id": "b3baaa19-eb99-4a8f-a1b2-a92d33c50ce7",
   "metadata": {},
   "outputs": [
    {
     "name": "stdout",
     "output_type": "stream",
     "text": [
      "favourite_programming:\n",
      "python\n",
      "java\n",
      "c++\n",
      "javascript\n",
      "swift\n"
     ]
    }
   ],
   "source": [
    "print(\"favourite_programming:\\npython\\njava\\nc++\\njavascript\\nswift\") # \\n ====> new line delimiter"
   ]
  },
  {
   "cell_type": "code",
   "execution_count": null,
   "id": "af1290aa-5831-4f28-ba73-83521cd74d1e",
   "metadata": {},
   "outputs": [],
   "source": []
  },
  {
   "cell_type": "code",
   "execution_count": 48,
   "id": "7c11db1e-ef37-4af0-b8ac-4b919d541fb8",
   "metadata": {},
   "outputs": [
    {
     "name": "stdout",
     "output_type": "stream",
     "text": [
      "favourite_programming:\n",
      "\tpython\n",
      "\tjava\n",
      "\tc++\n",
      "\tjavascript\n",
      "\tswift\n"
     ]
    }
   ],
   "source": [
    "print(\"favourite_programming:\\n\\tpython\\n\\tjava\\n\\tc++\\n\\tjavascript\\n\\tswift\") # \\t ====> tab delimiter"
   ]
  },
  {
   "cell_type": "code",
   "execution_count": null,
   "id": "1a36b4c3-bc45-4bfc-9807-de26e471db52",
   "metadata": {},
   "outputs": [],
   "source": []
  },
  {
   "cell_type": "code",
   "execution_count": null,
   "id": "6e844642-2227-46ef-9c7c-349cd1123489",
   "metadata": {},
   "outputs": [],
   "source": []
  },
  {
   "cell_type": "code",
   "execution_count": null,
   "id": "9a7364eb-d8df-4b0b-ae37-acab1b82c40a",
   "metadata": {},
   "outputs": [],
   "source": []
  },
  {
   "cell_type": "code",
   "execution_count": null,
   "id": "fcb94777-888f-4bcb-8bba-05a682ebb797",
   "metadata": {},
   "outputs": [],
   "source": []
  },
  {
   "cell_type": "code",
   "execution_count": null,
   "id": "57274e79-c845-499e-89d4-3c3f9d41496c",
   "metadata": {},
   "outputs": [],
   "source": []
  },
  {
   "cell_type": "code",
   "execution_count": null,
   "id": "a582fb4a-2360-49e2-aa29-67c6a1fc52b7",
   "metadata": {},
   "outputs": [],
   "source": []
  },
  {
   "cell_type": "code",
   "execution_count": null,
   "id": "9fcce7c0-0063-41a2-b7e6-9e3645333795",
   "metadata": {},
   "outputs": [],
   "source": []
  },
  {
   "cell_type": "code",
   "execution_count": null,
   "id": "663b26d9-e477-494a-a2ea-c0c6abc610dd",
   "metadata": {},
   "outputs": [],
   "source": []
  },
  {
   "cell_type": "code",
   "execution_count": null,
   "id": "58a3cfc0-bcb1-4223-9137-69498619db35",
   "metadata": {},
   "outputs": [],
   "source": []
  },
  {
   "cell_type": "code",
   "execution_count": null,
   "id": "938e1790-8200-4a67-8f56-0f3d125a490c",
   "metadata": {},
   "outputs": [],
   "source": []
  }
 ],
 "metadata": {
  "kernelspec": {
   "display_name": "Python [conda env:base] *",
   "language": "python",
   "name": "conda-base-py"
  },
  "language_info": {
   "codemirror_mode": {
    "name": "ipython",
    "version": 3
   },
   "file_extension": ".py",
   "mimetype": "text/x-python",
   "name": "python",
   "nbconvert_exporter": "python",
   "pygments_lexer": "ipython3",
   "version": "3.13.5"
  }
 },
 "nbformat": 4,
 "nbformat_minor": 5
}
